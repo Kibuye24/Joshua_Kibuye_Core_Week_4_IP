{
 "cells": [
  {
   "cell_type": "markdown",
   "metadata": {
    "id": "k3byZvq9MMJT"
   },
   "source": [
    "# **EXPLORATORY DATA ANALYSIS**"
   ]
  },
  {
   "cell_type": "markdown",
   "metadata": {
    "id": "dEXDz2A7MMnU"
   },
   "source": [
    "## 1. Defining the question"
   ]
  },
  {
   "cell_type": "markdown",
   "metadata": {
    "id": "r5NyPjW3oZSd"
   },
   "source": [
    "### a) Specifying the question\n"
   ]
  },
  {
   "cell_type": "markdown",
   "metadata": {
    "id": "VOk2ZHubokf_"
   },
   "source": [
    "What day is most popular for taking bluecars? Do people take bluecars more on Friday than on Monday?"
   ]
  },
  {
   "cell_type": "markdown",
   "metadata": {
    "id": "lJiFOVWio5Ep"
   },
   "source": [
    "### b) Defining the metric for success"
   ]
  },
  {
   "cell_type": "markdown",
   "metadata": {
    "id": "Lv64FvYFpESb"
   },
   "source": [
    "Effectively use exploratory data analysis and hypothesis testing to determine whether bluecars are taken more on Fridays than Mondays."
   ]
  },
  {
   "cell_type": "markdown",
   "metadata": {
    "id": "sCju9vpOpPFz"
   },
   "source": [
    "### c) Understanding the context"
   ]
  },
  {
   "cell_type": "markdown",
   "metadata": {
    "id": "ilcJJ4JTpX2s"
   },
   "source": [
    "The hypothesis is interesting as there is a general assumption that electric car sharing services usually have people taking the cars at the start of the weekend, in this case bluecars on Friday and returned on Monday. However, there is no sufficient evidence showing that Friday is the peak day for taking cars and Monday a slower day. The test will show if the claim is true or there is more to it"
   ]
  },
  {
   "cell_type": "markdown",
   "metadata": {
    "id": "NKO_Ee--p4Ze"
   },
   "source": [
    "### d) Recording the experimental design"
   ]
  },
  {
   "cell_type": "markdown",
   "metadata": {
    "id": "_ntvFFKIqEky"
   },
   "source": [
    "### e) Data Relevance"
   ]
  },
  {
   "cell_type": "markdown",
   "metadata": {},
   "source": [
    "The data has all information needed to come to a conclusion based on the hypothesis. The dataset is based over a span of one year which can be used effectively."
   ]
  },
  {
   "cell_type": "markdown",
   "metadata": {
    "id": "mBob_G29MM86"
   },
   "source": [
    "# 2. Reading the Data"
   ]
  },
  {
   "cell_type": "code",
   "execution_count": 321,
   "metadata": {
    "id": "L44XT-L3Nkfd"
   },
   "outputs": [],
   "source": [
    "#importing the libraries\n",
    "import pandas as pd\n",
    "import numpy as np\n",
    "import matplotlib.pyplot as plt\n",
    "import seaborn as sns\n",
    "import warnings\n",
    "warnings.filterwarnings(\"ignore\")\n",
    "import math\n",
    "from statsmodels.stats.weightstats import ztest"
   ]
  },
  {
   "cell_type": "code",
   "execution_count": 112,
   "metadata": {
    "id": "uW9kpJ_hN-Yv"
   },
   "outputs": [],
   "source": [
    "#loading the dataset\n",
    "df = pd.read_csv('http://bit.ly/DSCoreAutolibDataset')"
   ]
  },
  {
   "cell_type": "markdown",
   "metadata": {
    "id": "PbpUoH6oMNRb"
   },
   "source": [
    "# 3. Checking the Data"
   ]
  },
  {
   "cell_type": "code",
   "execution_count": 113,
   "metadata": {
    "colab": {
     "base_uri": "https://localhost:8080/"
    },
    "id": "S4ws2mSdqW_R",
    "outputId": "df1a98fc-6bb3-4965-f260-aba9b1a71100"
   },
   "outputs": [
    {
     "data": {
      "text/plain": [
       "(16085, 13)"
      ]
     },
     "execution_count": 113,
     "metadata": {},
     "output_type": "execute_result"
    }
   ],
   "source": [
    "#Determining number of records in the dataset\n",
    "df.shape"
   ]
  },
  {
   "cell_type": "code",
   "execution_count": 114,
   "metadata": {
    "colab": {
     "base_uri": "https://localhost:8080/",
     "height": 426
    },
    "id": "A8vajvqZqoyr",
    "outputId": "07d17a6c-7a64-438b-e79f-0376d839dabc"
   },
   "outputs": [
    {
     "data": {
      "text/html": [
       "<div>\n",
       "<style scoped>\n",
       "    .dataframe tbody tr th:only-of-type {\n",
       "        vertical-align: middle;\n",
       "    }\n",
       "\n",
       "    .dataframe tbody tr th {\n",
       "        vertical-align: top;\n",
       "    }\n",
       "\n",
       "    .dataframe thead th {\n",
       "        text-align: right;\n",
       "    }\n",
       "</style>\n",
       "<table border=\"1\" class=\"dataframe\">\n",
       "  <thead>\n",
       "    <tr style=\"text-align: right;\">\n",
       "      <th></th>\n",
       "      <th>Postal code</th>\n",
       "      <th>date</th>\n",
       "      <th>n_daily_data_points</th>\n",
       "      <th>dayOfWeek</th>\n",
       "      <th>day_type</th>\n",
       "      <th>BlueCars_taken_sum</th>\n",
       "      <th>BlueCars_returned_sum</th>\n",
       "      <th>Utilib_taken_sum</th>\n",
       "      <th>Utilib_returned_sum</th>\n",
       "      <th>Utilib_14_taken_sum</th>\n",
       "      <th>Utilib_14_returned_sum</th>\n",
       "      <th>Slots_freed_sum</th>\n",
       "      <th>Slots_taken_sum</th>\n",
       "    </tr>\n",
       "  </thead>\n",
       "  <tbody>\n",
       "    <tr>\n",
       "      <th>0</th>\n",
       "      <td>75001</td>\n",
       "      <td>1/1/2018</td>\n",
       "      <td>1440</td>\n",
       "      <td>0</td>\n",
       "      <td>weekday</td>\n",
       "      <td>110</td>\n",
       "      <td>103</td>\n",
       "      <td>3</td>\n",
       "      <td>2</td>\n",
       "      <td>10</td>\n",
       "      <td>9</td>\n",
       "      <td>22</td>\n",
       "      <td>20</td>\n",
       "    </tr>\n",
       "    <tr>\n",
       "      <th>1</th>\n",
       "      <td>75001</td>\n",
       "      <td>1/2/2018</td>\n",
       "      <td>1438</td>\n",
       "      <td>1</td>\n",
       "      <td>weekday</td>\n",
       "      <td>98</td>\n",
       "      <td>94</td>\n",
       "      <td>1</td>\n",
       "      <td>1</td>\n",
       "      <td>8</td>\n",
       "      <td>8</td>\n",
       "      <td>23</td>\n",
       "      <td>22</td>\n",
       "    </tr>\n",
       "    <tr>\n",
       "      <th>2</th>\n",
       "      <td>75001</td>\n",
       "      <td>1/3/2018</td>\n",
       "      <td>1439</td>\n",
       "      <td>2</td>\n",
       "      <td>weekday</td>\n",
       "      <td>138</td>\n",
       "      <td>139</td>\n",
       "      <td>0</td>\n",
       "      <td>0</td>\n",
       "      <td>2</td>\n",
       "      <td>2</td>\n",
       "      <td>27</td>\n",
       "      <td>27</td>\n",
       "    </tr>\n",
       "    <tr>\n",
       "      <th>3</th>\n",
       "      <td>75001</td>\n",
       "      <td>1/4/2018</td>\n",
       "      <td>1320</td>\n",
       "      <td>3</td>\n",
       "      <td>weekday</td>\n",
       "      <td>104</td>\n",
       "      <td>104</td>\n",
       "      <td>2</td>\n",
       "      <td>2</td>\n",
       "      <td>9</td>\n",
       "      <td>8</td>\n",
       "      <td>25</td>\n",
       "      <td>21</td>\n",
       "    </tr>\n",
       "    <tr>\n",
       "      <th>4</th>\n",
       "      <td>75001</td>\n",
       "      <td>1/5/2018</td>\n",
       "      <td>1440</td>\n",
       "      <td>4</td>\n",
       "      <td>weekday</td>\n",
       "      <td>114</td>\n",
       "      <td>117</td>\n",
       "      <td>3</td>\n",
       "      <td>3</td>\n",
       "      <td>6</td>\n",
       "      <td>6</td>\n",
       "      <td>18</td>\n",
       "      <td>20</td>\n",
       "    </tr>\n",
       "  </tbody>\n",
       "</table>\n",
       "</div>"
      ],
      "text/plain": [
       "   Postal code      date  n_daily_data_points  dayOfWeek day_type  \\\n",
       "0        75001  1/1/2018                 1440          0  weekday   \n",
       "1        75001  1/2/2018                 1438          1  weekday   \n",
       "2        75001  1/3/2018                 1439          2  weekday   \n",
       "3        75001  1/4/2018                 1320          3  weekday   \n",
       "4        75001  1/5/2018                 1440          4  weekday   \n",
       "\n",
       "   BlueCars_taken_sum  BlueCars_returned_sum  Utilib_taken_sum  \\\n",
       "0                 110                    103                 3   \n",
       "1                  98                     94                 1   \n",
       "2                 138                    139                 0   \n",
       "3                 104                    104                 2   \n",
       "4                 114                    117                 3   \n",
       "\n",
       "   Utilib_returned_sum  Utilib_14_taken_sum  Utilib_14_returned_sum  \\\n",
       "0                    2                   10                       9   \n",
       "1                    1                    8                       8   \n",
       "2                    0                    2                       2   \n",
       "3                    2                    9                       8   \n",
       "4                    3                    6                       6   \n",
       "\n",
       "   Slots_freed_sum  Slots_taken_sum  \n",
       "0               22               20  \n",
       "1               23               22  \n",
       "2               27               27  \n",
       "3               25               21  \n",
       "4               18               20  "
      ]
     },
     "execution_count": 114,
     "metadata": {},
     "output_type": "execute_result"
    }
   ],
   "source": [
    "#previewing the top of the dataset\n",
    "df.head()"
   ]
  },
  {
   "cell_type": "code",
   "execution_count": 115,
   "metadata": {
    "colab": {
     "base_uri": "https://localhost:8080/",
     "height": 408
    },
    "id": "2xu7k05Pqxwq",
    "outputId": "4be5976d-84c2-4b3f-fe42-470d780e0804"
   },
   "outputs": [
    {
     "data": {
      "text/html": [
       "<div>\n",
       "<style scoped>\n",
       "    .dataframe tbody tr th:only-of-type {\n",
       "        vertical-align: middle;\n",
       "    }\n",
       "\n",
       "    .dataframe tbody tr th {\n",
       "        vertical-align: top;\n",
       "    }\n",
       "\n",
       "    .dataframe thead th {\n",
       "        text-align: right;\n",
       "    }\n",
       "</style>\n",
       "<table border=\"1\" class=\"dataframe\">\n",
       "  <thead>\n",
       "    <tr style=\"text-align: right;\">\n",
       "      <th></th>\n",
       "      <th>Postal code</th>\n",
       "      <th>date</th>\n",
       "      <th>n_daily_data_points</th>\n",
       "      <th>dayOfWeek</th>\n",
       "      <th>day_type</th>\n",
       "      <th>BlueCars_taken_sum</th>\n",
       "      <th>BlueCars_returned_sum</th>\n",
       "      <th>Utilib_taken_sum</th>\n",
       "      <th>Utilib_returned_sum</th>\n",
       "      <th>Utilib_14_taken_sum</th>\n",
       "      <th>Utilib_14_returned_sum</th>\n",
       "      <th>Slots_freed_sum</th>\n",
       "      <th>Slots_taken_sum</th>\n",
       "    </tr>\n",
       "  </thead>\n",
       "  <tbody>\n",
       "    <tr>\n",
       "      <th>16080</th>\n",
       "      <td>95880</td>\n",
       "      <td>6/15/2018</td>\n",
       "      <td>1440</td>\n",
       "      <td>4</td>\n",
       "      <td>weekday</td>\n",
       "      <td>15</td>\n",
       "      <td>10</td>\n",
       "      <td>0</td>\n",
       "      <td>0</td>\n",
       "      <td>2</td>\n",
       "      <td>3</td>\n",
       "      <td>0</td>\n",
       "      <td>0</td>\n",
       "    </tr>\n",
       "    <tr>\n",
       "      <th>16081</th>\n",
       "      <td>95880</td>\n",
       "      <td>6/16/2018</td>\n",
       "      <td>1440</td>\n",
       "      <td>5</td>\n",
       "      <td>weekend</td>\n",
       "      <td>19</td>\n",
       "      <td>19</td>\n",
       "      <td>0</td>\n",
       "      <td>0</td>\n",
       "      <td>2</td>\n",
       "      <td>1</td>\n",
       "      <td>0</td>\n",
       "      <td>0</td>\n",
       "    </tr>\n",
       "    <tr>\n",
       "      <th>16082</th>\n",
       "      <td>95880</td>\n",
       "      <td>6/17/2018</td>\n",
       "      <td>1440</td>\n",
       "      <td>6</td>\n",
       "      <td>weekend</td>\n",
       "      <td>33</td>\n",
       "      <td>35</td>\n",
       "      <td>1</td>\n",
       "      <td>1</td>\n",
       "      <td>0</td>\n",
       "      <td>0</td>\n",
       "      <td>0</td>\n",
       "      <td>0</td>\n",
       "    </tr>\n",
       "    <tr>\n",
       "      <th>16083</th>\n",
       "      <td>95880</td>\n",
       "      <td>6/18/2018</td>\n",
       "      <td>1440</td>\n",
       "      <td>0</td>\n",
       "      <td>weekday</td>\n",
       "      <td>11</td>\n",
       "      <td>14</td>\n",
       "      <td>3</td>\n",
       "      <td>5</td>\n",
       "      <td>2</td>\n",
       "      <td>2</td>\n",
       "      <td>0</td>\n",
       "      <td>0</td>\n",
       "    </tr>\n",
       "    <tr>\n",
       "      <th>16084</th>\n",
       "      <td>95880</td>\n",
       "      <td>6/19/2018</td>\n",
       "      <td>1370</td>\n",
       "      <td>1</td>\n",
       "      <td>weekday</td>\n",
       "      <td>2</td>\n",
       "      <td>2</td>\n",
       "      <td>2</td>\n",
       "      <td>1</td>\n",
       "      <td>0</td>\n",
       "      <td>0</td>\n",
       "      <td>0</td>\n",
       "      <td>0</td>\n",
       "    </tr>\n",
       "  </tbody>\n",
       "</table>\n",
       "</div>"
      ],
      "text/plain": [
       "       Postal code       date  n_daily_data_points  dayOfWeek day_type  \\\n",
       "16080        95880  6/15/2018                 1440          4  weekday   \n",
       "16081        95880  6/16/2018                 1440          5  weekend   \n",
       "16082        95880  6/17/2018                 1440          6  weekend   \n",
       "16083        95880  6/18/2018                 1440          0  weekday   \n",
       "16084        95880  6/19/2018                 1370          1  weekday   \n",
       "\n",
       "       BlueCars_taken_sum  BlueCars_returned_sum  Utilib_taken_sum  \\\n",
       "16080                  15                     10                 0   \n",
       "16081                  19                     19                 0   \n",
       "16082                  33                     35                 1   \n",
       "16083                  11                     14                 3   \n",
       "16084                   2                      2                 2   \n",
       "\n",
       "       Utilib_returned_sum  Utilib_14_taken_sum  Utilib_14_returned_sum  \\\n",
       "16080                    0                    2                       3   \n",
       "16081                    0                    2                       1   \n",
       "16082                    1                    0                       0   \n",
       "16083                    5                    2                       2   \n",
       "16084                    1                    0                       0   \n",
       "\n",
       "       Slots_freed_sum  Slots_taken_sum  \n",
       "16080                0                0  \n",
       "16081                0                0  \n",
       "16082                0                0  \n",
       "16083                0                0  \n",
       "16084                0                0  "
      ]
     },
     "execution_count": 115,
     "metadata": {},
     "output_type": "execute_result"
    }
   ],
   "source": [
    "#Previewing the bottom of the dataset\n",
    "df.tail()"
   ]
  },
  {
   "cell_type": "code",
   "execution_count": 116,
   "metadata": {
    "colab": {
     "base_uri": "https://localhost:8080/"
    },
    "id": "x-aQTibQq9Ea",
    "outputId": "bf40ca0c-b8d3-493a-9b2e-0b251cbd8755"
   },
   "outputs": [
    {
     "data": {
      "text/plain": [
       "Postal code                int64\n",
       "date                      object\n",
       "n_daily_data_points        int64\n",
       "dayOfWeek                  int64\n",
       "day_type                  object\n",
       "BlueCars_taken_sum         int64\n",
       "BlueCars_returned_sum      int64\n",
       "Utilib_taken_sum           int64\n",
       "Utilib_returned_sum        int64\n",
       "Utilib_14_taken_sum        int64\n",
       "Utilib_14_returned_sum     int64\n",
       "Slots_freed_sum            int64\n",
       "Slots_taken_sum            int64\n",
       "dtype: object"
      ]
     },
     "execution_count": 116,
     "metadata": {},
     "output_type": "execute_result"
    }
   ],
   "source": [
    "#checking if each column has the appropriate data type\n",
    "df.dtypes"
   ]
  },
  {
   "cell_type": "code",
   "execution_count": 117,
   "metadata": {
    "id": "joqMNuv2rERC"
   },
   "outputs": [
    {
     "name": "stdout",
     "output_type": "stream",
     "text": [
      "<class 'pandas.core.frame.DataFrame'>\n",
      "RangeIndex: 16085 entries, 0 to 16084\n",
      "Data columns (total 13 columns):\n",
      " #   Column                  Non-Null Count  Dtype \n",
      "---  ------                  --------------  ----- \n",
      " 0   Postal code             16085 non-null  int64 \n",
      " 1   date                    16085 non-null  object\n",
      " 2   n_daily_data_points     16085 non-null  int64 \n",
      " 3   dayOfWeek               16085 non-null  int64 \n",
      " 4   day_type                16085 non-null  object\n",
      " 5   BlueCars_taken_sum      16085 non-null  int64 \n",
      " 6   BlueCars_returned_sum   16085 non-null  int64 \n",
      " 7   Utilib_taken_sum        16085 non-null  int64 \n",
      " 8   Utilib_returned_sum     16085 non-null  int64 \n",
      " 9   Utilib_14_taken_sum     16085 non-null  int64 \n",
      " 10  Utilib_14_returned_sum  16085 non-null  int64 \n",
      " 11  Slots_freed_sum         16085 non-null  int64 \n",
      " 12  Slots_taken_sum         16085 non-null  int64 \n",
      "dtypes: int64(11), object(2)\n",
      "memory usage: 1.6+ MB\n"
     ]
    }
   ],
   "source": [
    "#Getting information on the dataset\n",
    "df.info()"
   ]
  },
  {
   "cell_type": "code",
   "execution_count": 118,
   "metadata": {},
   "outputs": [
    {
     "data": {
      "text/plain": [
       "Index(['Postal code', 'date', 'n_daily_data_points', 'dayOfWeek', 'day_type',\n",
       "       'BlueCars_taken_sum', 'BlueCars_returned_sum', 'Utilib_taken_sum',\n",
       "       'Utilib_returned_sum', 'Utilib_14_taken_sum', 'Utilib_14_returned_sum',\n",
       "       'Slots_freed_sum', 'Slots_taken_sum'],\n",
       "      dtype='object')"
      ]
     },
     "execution_count": 118,
     "metadata": {},
     "output_type": "execute_result"
    }
   ],
   "source": [
    "#Checking the column names of the dataset\n",
    "df.columns"
   ]
  },
  {
   "cell_type": "code",
   "execution_count": 119,
   "metadata": {},
   "outputs": [
    {
     "data": {
      "text/plain": [
       "Postal code               104\n",
       "date                      156\n",
       "n_daily_data_points        23\n",
       "dayOfWeek                   7\n",
       "day_type                    2\n",
       "BlueCars_taken_sum        932\n",
       "BlueCars_returned_sum     929\n",
       "Utilib_taken_sum           48\n",
       "Utilib_returned_sum        49\n",
       "Utilib_14_taken_sum        92\n",
       "Utilib_14_returned_sum     94\n",
       "Slots_freed_sum           297\n",
       "Slots_taken_sum           301\n",
       "dtype: int64"
      ]
     },
     "execution_count": 119,
     "metadata": {},
     "output_type": "execute_result"
    }
   ],
   "source": [
    "# Checking number of unique items in each column\n",
    "df.nunique()"
   ]
  },
  {
   "cell_type": "code",
   "execution_count": 120,
   "metadata": {},
   "outputs": [
    {
     "data": {
      "text/html": [
       "<div>\n",
       "<style scoped>\n",
       "    .dataframe tbody tr th:only-of-type {\n",
       "        vertical-align: middle;\n",
       "    }\n",
       "\n",
       "    .dataframe tbody tr th {\n",
       "        vertical-align: top;\n",
       "    }\n",
       "\n",
       "    .dataframe thead th {\n",
       "        text-align: right;\n",
       "    }\n",
       "</style>\n",
       "<table border=\"1\" class=\"dataframe\">\n",
       "  <thead>\n",
       "    <tr style=\"text-align: right;\">\n",
       "      <th></th>\n",
       "      <th>Postal code</th>\n",
       "      <th>n_daily_data_points</th>\n",
       "      <th>dayOfWeek</th>\n",
       "      <th>BlueCars_taken_sum</th>\n",
       "      <th>BlueCars_returned_sum</th>\n",
       "      <th>Utilib_taken_sum</th>\n",
       "      <th>Utilib_returned_sum</th>\n",
       "      <th>Utilib_14_taken_sum</th>\n",
       "      <th>Utilib_14_returned_sum</th>\n",
       "      <th>Slots_freed_sum</th>\n",
       "      <th>Slots_taken_sum</th>\n",
       "    </tr>\n",
       "  </thead>\n",
       "  <tbody>\n",
       "    <tr>\n",
       "      <th>count</th>\n",
       "      <td>16085.000000</td>\n",
       "      <td>16085.000000</td>\n",
       "      <td>16085.000000</td>\n",
       "      <td>16085.000000</td>\n",
       "      <td>16085.000000</td>\n",
       "      <td>16085.000000</td>\n",
       "      <td>16085.000000</td>\n",
       "      <td>16085.000000</td>\n",
       "      <td>16085.000000</td>\n",
       "      <td>16085.000000</td>\n",
       "      <td>16085.000000</td>\n",
       "    </tr>\n",
       "    <tr>\n",
       "      <th>mean</th>\n",
       "      <td>88791.293876</td>\n",
       "      <td>1431.330619</td>\n",
       "      <td>2.969599</td>\n",
       "      <td>125.926951</td>\n",
       "      <td>125.912714</td>\n",
       "      <td>3.698290</td>\n",
       "      <td>3.699099</td>\n",
       "      <td>8.600560</td>\n",
       "      <td>8.599192</td>\n",
       "      <td>22.629033</td>\n",
       "      <td>22.629282</td>\n",
       "    </tr>\n",
       "    <tr>\n",
       "      <th>std</th>\n",
       "      <td>7647.342000</td>\n",
       "      <td>33.212050</td>\n",
       "      <td>2.008378</td>\n",
       "      <td>185.426579</td>\n",
       "      <td>185.501535</td>\n",
       "      <td>5.815058</td>\n",
       "      <td>5.824634</td>\n",
       "      <td>12.870098</td>\n",
       "      <td>12.868993</td>\n",
       "      <td>52.120263</td>\n",
       "      <td>52.146030</td>\n",
       "    </tr>\n",
       "    <tr>\n",
       "      <th>min</th>\n",
       "      <td>75001.000000</td>\n",
       "      <td>1174.000000</td>\n",
       "      <td>0.000000</td>\n",
       "      <td>0.000000</td>\n",
       "      <td>0.000000</td>\n",
       "      <td>0.000000</td>\n",
       "      <td>0.000000</td>\n",
       "      <td>0.000000</td>\n",
       "      <td>0.000000</td>\n",
       "      <td>0.000000</td>\n",
       "      <td>0.000000</td>\n",
       "    </tr>\n",
       "    <tr>\n",
       "      <th>25%</th>\n",
       "      <td>91330.000000</td>\n",
       "      <td>1439.000000</td>\n",
       "      <td>1.000000</td>\n",
       "      <td>20.000000</td>\n",
       "      <td>20.000000</td>\n",
       "      <td>0.000000</td>\n",
       "      <td>0.000000</td>\n",
       "      <td>1.000000</td>\n",
       "      <td>1.000000</td>\n",
       "      <td>0.000000</td>\n",
       "      <td>0.000000</td>\n",
       "    </tr>\n",
       "    <tr>\n",
       "      <th>50%</th>\n",
       "      <td>92340.000000</td>\n",
       "      <td>1440.000000</td>\n",
       "      <td>3.000000</td>\n",
       "      <td>46.000000</td>\n",
       "      <td>46.000000</td>\n",
       "      <td>1.000000</td>\n",
       "      <td>1.000000</td>\n",
       "      <td>3.000000</td>\n",
       "      <td>3.000000</td>\n",
       "      <td>0.000000</td>\n",
       "      <td>0.000000</td>\n",
       "    </tr>\n",
       "    <tr>\n",
       "      <th>75%</th>\n",
       "      <td>93400.000000</td>\n",
       "      <td>1440.000000</td>\n",
       "      <td>5.000000</td>\n",
       "      <td>135.000000</td>\n",
       "      <td>135.000000</td>\n",
       "      <td>4.000000</td>\n",
       "      <td>4.000000</td>\n",
       "      <td>10.000000</td>\n",
       "      <td>10.000000</td>\n",
       "      <td>5.000000</td>\n",
       "      <td>5.000000</td>\n",
       "    </tr>\n",
       "    <tr>\n",
       "      <th>max</th>\n",
       "      <td>95880.000000</td>\n",
       "      <td>1440.000000</td>\n",
       "      <td>6.000000</td>\n",
       "      <td>1352.000000</td>\n",
       "      <td>1332.000000</td>\n",
       "      <td>54.000000</td>\n",
       "      <td>58.000000</td>\n",
       "      <td>100.000000</td>\n",
       "      <td>101.000000</td>\n",
       "      <td>360.000000</td>\n",
       "      <td>359.000000</td>\n",
       "    </tr>\n",
       "  </tbody>\n",
       "</table>\n",
       "</div>"
      ],
      "text/plain": [
       "        Postal code  n_daily_data_points     dayOfWeek  BlueCars_taken_sum  \\\n",
       "count  16085.000000         16085.000000  16085.000000        16085.000000   \n",
       "mean   88791.293876          1431.330619      2.969599          125.926951   \n",
       "std     7647.342000            33.212050      2.008378          185.426579   \n",
       "min    75001.000000          1174.000000      0.000000            0.000000   \n",
       "25%    91330.000000          1439.000000      1.000000           20.000000   \n",
       "50%    92340.000000          1440.000000      3.000000           46.000000   \n",
       "75%    93400.000000          1440.000000      5.000000          135.000000   \n",
       "max    95880.000000          1440.000000      6.000000         1352.000000   \n",
       "\n",
       "       BlueCars_returned_sum  Utilib_taken_sum  Utilib_returned_sum  \\\n",
       "count           16085.000000      16085.000000         16085.000000   \n",
       "mean              125.912714          3.698290             3.699099   \n",
       "std               185.501535          5.815058             5.824634   \n",
       "min                 0.000000          0.000000             0.000000   \n",
       "25%                20.000000          0.000000             0.000000   \n",
       "50%                46.000000          1.000000             1.000000   \n",
       "75%               135.000000          4.000000             4.000000   \n",
       "max              1332.000000         54.000000            58.000000   \n",
       "\n",
       "       Utilib_14_taken_sum  Utilib_14_returned_sum  Slots_freed_sum  \\\n",
       "count         16085.000000            16085.000000     16085.000000   \n",
       "mean              8.600560                8.599192        22.629033   \n",
       "std              12.870098               12.868993        52.120263   \n",
       "min               0.000000                0.000000         0.000000   \n",
       "25%               1.000000                1.000000         0.000000   \n",
       "50%               3.000000                3.000000         0.000000   \n",
       "75%              10.000000               10.000000         5.000000   \n",
       "max             100.000000              101.000000       360.000000   \n",
       "\n",
       "       Slots_taken_sum  \n",
       "count     16085.000000  \n",
       "mean         22.629282  \n",
       "std          52.146030  \n",
       "min           0.000000  \n",
       "25%           0.000000  \n",
       "50%           0.000000  \n",
       "75%           5.000000  \n",
       "max         359.000000  "
      ]
     },
     "execution_count": 120,
     "metadata": {},
     "output_type": "execute_result"
    }
   ],
   "source": [
    "#Getting a summary of the dataset\n",
    "df.describe()"
   ]
  },
  {
   "cell_type": "code",
   "execution_count": 121,
   "metadata": {},
   "outputs": [
    {
     "data": {
      "text/html": [
       "<div>\n",
       "<style scoped>\n",
       "    .dataframe tbody tr th:only-of-type {\n",
       "        vertical-align: middle;\n",
       "    }\n",
       "\n",
       "    .dataframe tbody tr th {\n",
       "        vertical-align: top;\n",
       "    }\n",
       "\n",
       "    .dataframe thead th {\n",
       "        text-align: right;\n",
       "    }\n",
       "</style>\n",
       "<table border=\"1\" class=\"dataframe\">\n",
       "  <thead>\n",
       "    <tr style=\"text-align: right;\">\n",
       "      <th></th>\n",
       "      <th>Postal code</th>\n",
       "      <th>date</th>\n",
       "      <th>n_daily_data_points</th>\n",
       "      <th>dayOfWeek</th>\n",
       "      <th>day_type</th>\n",
       "      <th>BlueCars_taken_sum</th>\n",
       "      <th>BlueCars_returned_sum</th>\n",
       "      <th>Utilib_taken_sum</th>\n",
       "      <th>Utilib_returned_sum</th>\n",
       "      <th>Utilib_14_taken_sum</th>\n",
       "      <th>Utilib_14_returned_sum</th>\n",
       "      <th>Slots_freed_sum</th>\n",
       "      <th>Slots_taken_sum</th>\n",
       "    </tr>\n",
       "  </thead>\n",
       "  <tbody>\n",
       "    <tr>\n",
       "      <th>0</th>\n",
       "      <td>75001</td>\n",
       "      <td>1/1/2018</td>\n",
       "      <td>1440</td>\n",
       "      <td>0</td>\n",
       "      <td>weekday</td>\n",
       "      <td>110</td>\n",
       "      <td>103</td>\n",
       "      <td>3</td>\n",
       "      <td>2</td>\n",
       "      <td>10</td>\n",
       "      <td>9</td>\n",
       "      <td>22</td>\n",
       "      <td>20</td>\n",
       "    </tr>\n",
       "    <tr>\n",
       "      <th>1</th>\n",
       "      <td>75001</td>\n",
       "      <td>1/2/2018</td>\n",
       "      <td>1438</td>\n",
       "      <td>1</td>\n",
       "      <td>weekday</td>\n",
       "      <td>98</td>\n",
       "      <td>94</td>\n",
       "      <td>1</td>\n",
       "      <td>1</td>\n",
       "      <td>8</td>\n",
       "      <td>8</td>\n",
       "      <td>23</td>\n",
       "      <td>22</td>\n",
       "    </tr>\n",
       "    <tr>\n",
       "      <th>2</th>\n",
       "      <td>75001</td>\n",
       "      <td>1/3/2018</td>\n",
       "      <td>1439</td>\n",
       "      <td>2</td>\n",
       "      <td>weekday</td>\n",
       "      <td>138</td>\n",
       "      <td>139</td>\n",
       "      <td>0</td>\n",
       "      <td>0</td>\n",
       "      <td>2</td>\n",
       "      <td>2</td>\n",
       "      <td>27</td>\n",
       "      <td>27</td>\n",
       "    </tr>\n",
       "    <tr>\n",
       "      <th>3</th>\n",
       "      <td>75001</td>\n",
       "      <td>1/4/2018</td>\n",
       "      <td>1320</td>\n",
       "      <td>3</td>\n",
       "      <td>weekday</td>\n",
       "      <td>104</td>\n",
       "      <td>104</td>\n",
       "      <td>2</td>\n",
       "      <td>2</td>\n",
       "      <td>9</td>\n",
       "      <td>8</td>\n",
       "      <td>25</td>\n",
       "      <td>21</td>\n",
       "    </tr>\n",
       "    <tr>\n",
       "      <th>4</th>\n",
       "      <td>75001</td>\n",
       "      <td>1/5/2018</td>\n",
       "      <td>1440</td>\n",
       "      <td>4</td>\n",
       "      <td>weekday</td>\n",
       "      <td>114</td>\n",
       "      <td>117</td>\n",
       "      <td>3</td>\n",
       "      <td>3</td>\n",
       "      <td>6</td>\n",
       "      <td>6</td>\n",
       "      <td>18</td>\n",
       "      <td>20</td>\n",
       "    </tr>\n",
       "  </tbody>\n",
       "</table>\n",
       "</div>"
      ],
      "text/plain": [
       "   Postal code      date  n_daily_data_points  dayOfWeek day_type  \\\n",
       "0        75001  1/1/2018                 1440          0  weekday   \n",
       "1        75001  1/2/2018                 1438          1  weekday   \n",
       "2        75001  1/3/2018                 1439          2  weekday   \n",
       "3        75001  1/4/2018                 1320          3  weekday   \n",
       "4        75001  1/5/2018                 1440          4  weekday   \n",
       "\n",
       "   BlueCars_taken_sum  BlueCars_returned_sum  Utilib_taken_sum  \\\n",
       "0                 110                    103                 3   \n",
       "1                  98                     94                 1   \n",
       "2                 138                    139                 0   \n",
       "3                 104                    104                 2   \n",
       "4                 114                    117                 3   \n",
       "\n",
       "   Utilib_returned_sum  Utilib_14_taken_sum  Utilib_14_returned_sum  \\\n",
       "0                    2                   10                       9   \n",
       "1                    1                    8                       8   \n",
       "2                    0                    2                       2   \n",
       "3                    2                    9                       8   \n",
       "4                    3                    6                       6   \n",
       "\n",
       "   Slots_freed_sum  Slots_taken_sum  \n",
       "0               22               20  \n",
       "1               23               22  \n",
       "2               27               27  \n",
       "3               25               21  \n",
       "4               18               20  "
      ]
     },
     "execution_count": 121,
     "metadata": {},
     "output_type": "execute_result"
    }
   ],
   "source": [
    "#The research requires that we use data based on the the day type, weekend or weekday. We will use weekdays\n",
    "#We create a dataset with only weekday values\n",
    "df = df.loc[df['day_type'] == 'weekday']\n",
    "df.head()"
   ]
  },
  {
   "cell_type": "code",
   "execution_count": 122,
   "metadata": {},
   "outputs": [
    {
     "data": {
      "text/plain": [
       "(11544, 13)"
      ]
     },
     "execution_count": 122,
     "metadata": {},
     "output_type": "execute_result"
    }
   ],
   "source": [
    "#Getting shape of the new dataset\n",
    "df.shape"
   ]
  },
  {
   "cell_type": "code",
   "execution_count": 123,
   "metadata": {},
   "outputs": [
    {
     "data": {
      "text/plain": [
       "array(['weekday'], dtype=object)"
      ]
     },
     "execution_count": 123,
     "metadata": {},
     "output_type": "execute_result"
    }
   ],
   "source": [
    "#Checking for unique values in the day type column\n",
    "df['day_type'].unique()"
   ]
  },
  {
   "cell_type": "markdown",
   "metadata": {
    "id": "KA1r4tVLMNlN"
   },
   "source": [
    "# 4. External Data Source Validation"
   ]
  },
  {
   "cell_type": "markdown",
   "metadata": {
    "id": "BL_ZgE0-rbwI"
   },
   "source": [
    "Data source validation was done by looking at information from the source of the dataset. The source of the dataset is Autolib."
   ]
  },
  {
   "cell_type": "markdown",
   "metadata": {
    "id": "eUlPoXifOU5x"
   },
   "source": [
    "# 5. Data Cleaning"
   ]
  },
  {
   "cell_type": "code",
   "execution_count": 124,
   "metadata": {},
   "outputs": [
    {
     "data": {
      "text/html": [
       "<div>\n",
       "<style scoped>\n",
       "    .dataframe tbody tr th:only-of-type {\n",
       "        vertical-align: middle;\n",
       "    }\n",
       "\n",
       "    .dataframe tbody tr th {\n",
       "        vertical-align: top;\n",
       "    }\n",
       "\n",
       "    .dataframe thead th {\n",
       "        text-align: right;\n",
       "    }\n",
       "</style>\n",
       "<table border=\"1\" class=\"dataframe\">\n",
       "  <thead>\n",
       "    <tr style=\"text-align: right;\">\n",
       "      <th></th>\n",
       "      <th>postal_code</th>\n",
       "      <th>date</th>\n",
       "      <th>n_daily_data_points</th>\n",
       "      <th>dayofweek</th>\n",
       "      <th>day_type</th>\n",
       "      <th>bluecars_taken_sum</th>\n",
       "      <th>bluecars_returned_sum</th>\n",
       "      <th>utilib_taken_sum</th>\n",
       "      <th>utilib_returned_sum</th>\n",
       "      <th>utilib_14_taken_sum</th>\n",
       "      <th>utilib_14_returned_sum</th>\n",
       "      <th>slots_freed_sum</th>\n",
       "      <th>slots_taken_sum</th>\n",
       "    </tr>\n",
       "  </thead>\n",
       "  <tbody>\n",
       "    <tr>\n",
       "      <th>0</th>\n",
       "      <td>75001</td>\n",
       "      <td>1/1/2018</td>\n",
       "      <td>1440</td>\n",
       "      <td>0</td>\n",
       "      <td>weekday</td>\n",
       "      <td>110</td>\n",
       "      <td>103</td>\n",
       "      <td>3</td>\n",
       "      <td>2</td>\n",
       "      <td>10</td>\n",
       "      <td>9</td>\n",
       "      <td>22</td>\n",
       "      <td>20</td>\n",
       "    </tr>\n",
       "    <tr>\n",
       "      <th>1</th>\n",
       "      <td>75001</td>\n",
       "      <td>1/2/2018</td>\n",
       "      <td>1438</td>\n",
       "      <td>1</td>\n",
       "      <td>weekday</td>\n",
       "      <td>98</td>\n",
       "      <td>94</td>\n",
       "      <td>1</td>\n",
       "      <td>1</td>\n",
       "      <td>8</td>\n",
       "      <td>8</td>\n",
       "      <td>23</td>\n",
       "      <td>22</td>\n",
       "    </tr>\n",
       "    <tr>\n",
       "      <th>2</th>\n",
       "      <td>75001</td>\n",
       "      <td>1/3/2018</td>\n",
       "      <td>1439</td>\n",
       "      <td>2</td>\n",
       "      <td>weekday</td>\n",
       "      <td>138</td>\n",
       "      <td>139</td>\n",
       "      <td>0</td>\n",
       "      <td>0</td>\n",
       "      <td>2</td>\n",
       "      <td>2</td>\n",
       "      <td>27</td>\n",
       "      <td>27</td>\n",
       "    </tr>\n",
       "    <tr>\n",
       "      <th>3</th>\n",
       "      <td>75001</td>\n",
       "      <td>1/4/2018</td>\n",
       "      <td>1320</td>\n",
       "      <td>3</td>\n",
       "      <td>weekday</td>\n",
       "      <td>104</td>\n",
       "      <td>104</td>\n",
       "      <td>2</td>\n",
       "      <td>2</td>\n",
       "      <td>9</td>\n",
       "      <td>8</td>\n",
       "      <td>25</td>\n",
       "      <td>21</td>\n",
       "    </tr>\n",
       "    <tr>\n",
       "      <th>4</th>\n",
       "      <td>75001</td>\n",
       "      <td>1/5/2018</td>\n",
       "      <td>1440</td>\n",
       "      <td>4</td>\n",
       "      <td>weekday</td>\n",
       "      <td>114</td>\n",
       "      <td>117</td>\n",
       "      <td>3</td>\n",
       "      <td>3</td>\n",
       "      <td>6</td>\n",
       "      <td>6</td>\n",
       "      <td>18</td>\n",
       "      <td>20</td>\n",
       "    </tr>\n",
       "  </tbody>\n",
       "</table>\n",
       "</div>"
      ],
      "text/plain": [
       "   postal_code      date  n_daily_data_points  dayofweek day_type  \\\n",
       "0        75001  1/1/2018                 1440          0  weekday   \n",
       "1        75001  1/2/2018                 1438          1  weekday   \n",
       "2        75001  1/3/2018                 1439          2  weekday   \n",
       "3        75001  1/4/2018                 1320          3  weekday   \n",
       "4        75001  1/5/2018                 1440          4  weekday   \n",
       "\n",
       "   bluecars_taken_sum  bluecars_returned_sum  utilib_taken_sum  \\\n",
       "0                 110                    103                 3   \n",
       "1                  98                     94                 1   \n",
       "2                 138                    139                 0   \n",
       "3                 104                    104                 2   \n",
       "4                 114                    117                 3   \n",
       "\n",
       "   utilib_returned_sum  utilib_14_taken_sum  utilib_14_returned_sum  \\\n",
       "0                    2                   10                       9   \n",
       "1                    1                    8                       8   \n",
       "2                    0                    2                       2   \n",
       "3                    2                    9                       8   \n",
       "4                    3                    6                       6   \n",
       "\n",
       "   slots_freed_sum  slots_taken_sum  \n",
       "0               22               20  \n",
       "1               23               22  \n",
       "2               27               27  \n",
       "3               25               21  \n",
       "4               18               20  "
      ]
     },
     "execution_count": 124,
     "metadata": {},
     "output_type": "execute_result"
    }
   ],
   "source": [
    "#Fixing column names for uniformity\n",
    "df.columns = df.columns.str.lower().str.replace(\" \", \"_\")\n",
    "df.head()"
   ]
  },
  {
   "cell_type": "code",
   "execution_count": 125,
   "metadata": {},
   "outputs": [],
   "source": [
    "#Renaming the day of the week column\n",
    "df.rename(columns={'dayofweek' : 'day_of_week'}, inplace=True)"
   ]
  },
  {
   "cell_type": "code",
   "execution_count": 126,
   "metadata": {},
   "outputs": [
    {
     "data": {
      "text/plain": [
       "Index(['postal_code', 'date', 'n_daily_data_points', 'day_of_week', 'day_type',\n",
       "       'bluecars_taken_sum', 'bluecars_returned_sum', 'utilib_taken_sum',\n",
       "       'utilib_returned_sum', 'utilib_14_taken_sum', 'utilib_14_returned_sum',\n",
       "       'slots_freed_sum', 'slots_taken_sum'],\n",
       "      dtype='object')"
      ]
     },
     "execution_count": 126,
     "metadata": {},
     "output_type": "execute_result"
    }
   ],
   "source": [
    "#Looking at column names\n",
    "df.columns"
   ]
  },
  {
   "cell_type": "code",
   "execution_count": 127,
   "metadata": {},
   "outputs": [],
   "source": [
    "#Dropping columns\n",
    "#The stufy only needs data for blue cars. We then drop columns not related to blue cars\n",
    "df.drop(['utilib_taken_sum', 'utilib_returned_sum', 'utilib_14_taken_sum', 'utilib_14_returned_sum'], axis = 1, inplace = True)"
   ]
  },
  {
   "cell_type": "code",
   "execution_count": 128,
   "metadata": {},
   "outputs": [
    {
     "data": {
      "text/html": [
       "<div>\n",
       "<style scoped>\n",
       "    .dataframe tbody tr th:only-of-type {\n",
       "        vertical-align: middle;\n",
       "    }\n",
       "\n",
       "    .dataframe tbody tr th {\n",
       "        vertical-align: top;\n",
       "    }\n",
       "\n",
       "    .dataframe thead th {\n",
       "        text-align: right;\n",
       "    }\n",
       "</style>\n",
       "<table border=\"1\" class=\"dataframe\">\n",
       "  <thead>\n",
       "    <tr style=\"text-align: right;\">\n",
       "      <th></th>\n",
       "      <th>postal_code</th>\n",
       "      <th>date</th>\n",
       "      <th>n_daily_data_points</th>\n",
       "      <th>day_of_week</th>\n",
       "      <th>day_type</th>\n",
       "      <th>bluecars_taken_sum</th>\n",
       "      <th>bluecars_returned_sum</th>\n",
       "      <th>slots_freed_sum</th>\n",
       "      <th>slots_taken_sum</th>\n",
       "    </tr>\n",
       "  </thead>\n",
       "  <tbody>\n",
       "    <tr>\n",
       "      <th>0</th>\n",
       "      <td>75001</td>\n",
       "      <td>1/1/2018</td>\n",
       "      <td>1440</td>\n",
       "      <td>0</td>\n",
       "      <td>weekday</td>\n",
       "      <td>110</td>\n",
       "      <td>103</td>\n",
       "      <td>22</td>\n",
       "      <td>20</td>\n",
       "    </tr>\n",
       "    <tr>\n",
       "      <th>1</th>\n",
       "      <td>75001</td>\n",
       "      <td>1/2/2018</td>\n",
       "      <td>1438</td>\n",
       "      <td>1</td>\n",
       "      <td>weekday</td>\n",
       "      <td>98</td>\n",
       "      <td>94</td>\n",
       "      <td>23</td>\n",
       "      <td>22</td>\n",
       "    </tr>\n",
       "    <tr>\n",
       "      <th>2</th>\n",
       "      <td>75001</td>\n",
       "      <td>1/3/2018</td>\n",
       "      <td>1439</td>\n",
       "      <td>2</td>\n",
       "      <td>weekday</td>\n",
       "      <td>138</td>\n",
       "      <td>139</td>\n",
       "      <td>27</td>\n",
       "      <td>27</td>\n",
       "    </tr>\n",
       "    <tr>\n",
       "      <th>3</th>\n",
       "      <td>75001</td>\n",
       "      <td>1/4/2018</td>\n",
       "      <td>1320</td>\n",
       "      <td>3</td>\n",
       "      <td>weekday</td>\n",
       "      <td>104</td>\n",
       "      <td>104</td>\n",
       "      <td>25</td>\n",
       "      <td>21</td>\n",
       "    </tr>\n",
       "    <tr>\n",
       "      <th>4</th>\n",
       "      <td>75001</td>\n",
       "      <td>1/5/2018</td>\n",
       "      <td>1440</td>\n",
       "      <td>4</td>\n",
       "      <td>weekday</td>\n",
       "      <td>114</td>\n",
       "      <td>117</td>\n",
       "      <td>18</td>\n",
       "      <td>20</td>\n",
       "    </tr>\n",
       "  </tbody>\n",
       "</table>\n",
       "</div>"
      ],
      "text/plain": [
       "   postal_code      date  n_daily_data_points  day_of_week day_type  \\\n",
       "0        75001  1/1/2018                 1440            0  weekday   \n",
       "1        75001  1/2/2018                 1438            1  weekday   \n",
       "2        75001  1/3/2018                 1439            2  weekday   \n",
       "3        75001  1/4/2018                 1320            3  weekday   \n",
       "4        75001  1/5/2018                 1440            4  weekday   \n",
       "\n",
       "   bluecars_taken_sum  bluecars_returned_sum  slots_freed_sum  slots_taken_sum  \n",
       "0                 110                    103               22               20  \n",
       "1                  98                     94               23               22  \n",
       "2                 138                    139               27               27  \n",
       "3                 104                    104               25               21  \n",
       "4                 114                    117               18               20  "
      ]
     },
     "execution_count": 128,
     "metadata": {},
     "output_type": "execute_result"
    }
   ],
   "source": [
    "df.head()"
   ]
  },
  {
   "cell_type": "code",
   "execution_count": 129,
   "metadata": {
    "colab": {
     "base_uri": "https://localhost:8080/",
     "height": 384
    },
    "id": "FbtQqsyWO8bB",
    "outputId": "c820e0f7-5ea3-42f4-b1b2-109963ae81dd"
   },
   "outputs": [
    {
     "data": {
      "image/png": "[encoded data removed]",
      "text/plain": [
       "<Figure size 600x400 with 1 Axes>"
      ]
     },
     "metadata": {
      "needs_background": "light"
     },
     "output_type": "display_data"
    }
   ],
   "source": [
    "#Checking for outliers in day of week\n",
    "plt.figure(dpi=100)\n",
    "df.boxplot(['day_of_week'])\n",
    "plt.title('Days of Week', color='red')\n",
    "plt.show()\n",
    "\n",
    "#There are no outliers. The days of week should be 0-4 denoting Monday to Friday"
   ]
  },
  {
   "cell_type": "code",
   "execution_count": 130,
   "metadata": {
    "colab": {
     "base_uri": "https://localhost:8080/",
     "height": 384
    },
    "id": "QKTiFYPHr9Zo",
    "outputId": "63057eb6-5a46-4b01-d1dd-02167ac01788"
   },
   "outputs": [
    {
     "data": {
      "image/png": "[encoded data removed]",
      "text/plain": [
       "<Figure size 600x400 with 1 Axes>"
      ]
     },
     "metadata": {
      "needs_background": "light"
     },
     "output_type": "display_data"
    }
   ],
   "source": [
    "#checking for outliers in respondent age\n",
    "plt.figure(dpi=100)\n",
    "df.boxplot(['slots_taken_sum'])\n",
    "plt.title('Sum of Blue Cars Taken')\n",
    "plt.show()\n",
    "\n",
    "#Outliers are kept as they are true values "
   ]
  },
  {
   "cell_type": "code",
   "execution_count": 131,
   "metadata": {},
   "outputs": [
    {
     "data": {
      "image/png": "[encoded data removed]",
      "text/plain": [
       "<Figure size 720x1800 with 4 Axes>"
      ]
     },
     "metadata": {
      "needs_background": "light"
     },
     "output_type": "display_data"
    }
   ],
   "source": [
    "col_names= ['bluecars_taken_sum', 'bluecars_returned_sum', 'slots_taken_sum', 'slots_freed_sum']\n",
    "\n",
    "fig, ax = plt.subplots(len(col_names), figsize=(10,25))\n",
    "\n",
    "for i, col_val in enumerate(col_names):\n",
    "\n",
    "    sns.boxplot(y=df[col_val], ax=ax[i])\n",
    "    ax[i].set_title('Box plot for numerical variables - {}'.format(col_val), fontsize=12)\n",
    "    ax[i].set_xlabel(col_val, fontsize=12)\n",
    "\n",
    "plt.show()"
   ]
  },
  {
   "cell_type": "markdown",
   "metadata": {},
   "source": [
    "The data shows that there is presence of outliers in the columns. However, the outliers won't be dropped but investigated as they are most likely true values."
   ]
  },
  {
   "cell_type": "code",
   "execution_count": 132,
   "metadata": {
    "colab": {
     "base_uri": "https://localhost:8080/"
    },
    "id": "5mdDgX4JQEj_",
    "outputId": "85c84659-fd68-4e33-bb91-d1d44f4b0e24"
   },
   "outputs": [
    {
     "data": {
      "text/plain": [
       "postal_code              0\n",
       "date                     0\n",
       "n_daily_data_points      0\n",
       "day_of_week              0\n",
       "day_type                 0\n",
       "bluecars_taken_sum       0\n",
       "bluecars_returned_sum    0\n",
       "slots_freed_sum          0\n",
       "slots_taken_sum          0\n",
       "dtype: int64"
      ]
     },
     "execution_count": 132,
     "metadata": {},
     "output_type": "execute_result"
    }
   ],
   "source": [
    "#Checking for missing data\n",
    "df.isna().sum()"
   ]
  },
  {
   "cell_type": "code",
   "execution_count": 133,
   "metadata": {
    "colab": {
     "base_uri": "https://localhost:8080/"
    },
    "id": "5X9Znep4QUY9",
    "outputId": "bf4e818c-5f3b-40d5-9aca-ade87d0694d1"
   },
   "outputs": [
    {
     "data": {
      "text/plain": [
       "0"
      ]
     },
     "execution_count": 133,
     "metadata": {},
     "output_type": "execute_result"
    }
   ],
   "source": [
    "#Checking for duplicated values\n",
    "df.duplicated().sum()"
   ]
  },
  {
   "cell_type": "markdown",
   "metadata": {
    "id": "s87XZlbNSRMw"
   },
   "source": [
    "# 6. Exploratory Data Analysis"
   ]
  },
  {
   "cell_type": "markdown",
   "metadata": {
    "id": "8Fmb07eJSXgy"
   },
   "source": [
    "## 6.1 Univariate Data Analysis"
   ]
  },
  {
   "cell_type": "code",
   "execution_count": 134,
   "metadata": {},
   "outputs": [],
   "source": [
    "#For plotting purposes, we will convert the number of days to their string values\n",
    "df['day_of_week'] = df.day_of_week.map({0: 'Monday', 1: 'Tuesday', 2: 'Wednesday', 3: 'Thursday', 4: 'Friday'})"
   ]
  },
  {
   "cell_type": "code",
   "execution_count": 138,
   "metadata": {},
   "outputs": [
    {
     "data": {
      "text/html": [
       "<div>\n",
       "<style scoped>\n",
       "    .dataframe tbody tr th:only-of-type {\n",
       "        vertical-align: middle;\n",
       "    }\n",
       "\n",
       "    .dataframe tbody tr th {\n",
       "        vertical-align: top;\n",
       "    }\n",
       "\n",
       "    .dataframe thead th {\n",
       "        text-align: right;\n",
       "    }\n",
       "</style>\n",
       "<table border=\"1\" class=\"dataframe\">\n",
       "  <thead>\n",
       "    <tr style=\"text-align: right;\">\n",
       "      <th></th>\n",
       "      <th>postal_code</th>\n",
       "      <th>date</th>\n",
       "      <th>n_daily_data_points</th>\n",
       "      <th>day_of_week</th>\n",
       "      <th>day_type</th>\n",
       "      <th>bluecars_taken_sum</th>\n",
       "      <th>bluecars_returned_sum</th>\n",
       "      <th>slots_freed_sum</th>\n",
       "      <th>slots_taken_sum</th>\n",
       "    </tr>\n",
       "  </thead>\n",
       "  <tbody>\n",
       "    <tr>\n",
       "      <th>0</th>\n",
       "      <td>75001</td>\n",
       "      <td>1/1/2018</td>\n",
       "      <td>1440</td>\n",
       "      <td>Monday</td>\n",
       "      <td>weekday</td>\n",
       "      <td>110</td>\n",
       "      <td>103</td>\n",
       "      <td>22</td>\n",
       "      <td>20</td>\n",
       "    </tr>\n",
       "    <tr>\n",
       "      <th>1</th>\n",
       "      <td>75001</td>\n",
       "      <td>1/2/2018</td>\n",
       "      <td>1438</td>\n",
       "      <td>Tuesday</td>\n",
       "      <td>weekday</td>\n",
       "      <td>98</td>\n",
       "      <td>94</td>\n",
       "      <td>23</td>\n",
       "      <td>22</td>\n",
       "    </tr>\n",
       "    <tr>\n",
       "      <th>2</th>\n",
       "      <td>75001</td>\n",
       "      <td>1/3/2018</td>\n",
       "      <td>1439</td>\n",
       "      <td>Wednesday</td>\n",
       "      <td>weekday</td>\n",
       "      <td>138</td>\n",
       "      <td>139</td>\n",
       "      <td>27</td>\n",
       "      <td>27</td>\n",
       "    </tr>\n",
       "    <tr>\n",
       "      <th>3</th>\n",
       "      <td>75001</td>\n",
       "      <td>1/4/2018</td>\n",
       "      <td>1320</td>\n",
       "      <td>Thursday</td>\n",
       "      <td>weekday</td>\n",
       "      <td>104</td>\n",
       "      <td>104</td>\n",
       "      <td>25</td>\n",
       "      <td>21</td>\n",
       "    </tr>\n",
       "    <tr>\n",
       "      <th>4</th>\n",
       "      <td>75001</td>\n",
       "      <td>1/5/2018</td>\n",
       "      <td>1440</td>\n",
       "      <td>Friday</td>\n",
       "      <td>weekday</td>\n",
       "      <td>114</td>\n",
       "      <td>117</td>\n",
       "      <td>18</td>\n",
       "      <td>20</td>\n",
       "    </tr>\n",
       "  </tbody>\n",
       "</table>\n",
       "</div>"
      ],
      "text/plain": [
       "   postal_code      date  n_daily_data_points day_of_week day_type  \\\n",
       "0        75001  1/1/2018                 1440      Monday  weekday   \n",
       "1        75001  1/2/2018                 1438     Tuesday  weekday   \n",
       "2        75001  1/3/2018                 1439   Wednesday  weekday   \n",
       "3        75001  1/4/2018                 1320    Thursday  weekday   \n",
       "4        75001  1/5/2018                 1440      Friday  weekday   \n",
       "\n",
       "   bluecars_taken_sum  bluecars_returned_sum  slots_freed_sum  slots_taken_sum  \n",
       "0                 110                    103               22               20  \n",
       "1                  98                     94               23               22  \n",
       "2                 138                    139               27               27  \n",
       "3                 104                    104               25               21  \n",
       "4                 114                    117               18               20  "
      ]
     },
     "execution_count": 138,
     "metadata": {},
     "output_type": "execute_result"
    }
   ],
   "source": [
    "#Previewing the implemented changes\n",
    "df.head()"
   ]
  },
  {
   "cell_type": "code",
   "execution_count": 139,
   "metadata": {},
   "outputs": [
    {
     "data": {
      "text/plain": [
       "Monday       2374\n",
       "Tuesday      2363\n",
       "Friday       2271\n",
       "Thursday     2268\n",
       "Wednesday    2268\n",
       "Name: day_of_week, dtype: int64"
      ]
     },
     "execution_count": 139,
     "metadata": {},
     "output_type": "execute_result"
    }
   ],
   "source": [
    "#Looking at the number of days\n",
    "df['day_of_week'].value_counts()"
   ]
  },
  {
   "cell_type": "code",
   "execution_count": 141,
   "metadata": {
    "id": "Wa-ErFriUCVc"
   },
   "outputs": [
    {
     "data": {
      "image/png": "[encoded data removed]",
      "text/plain": [
       "<Figure size 700x700 with 1 Axes>"
      ]
     },
     "metadata": {},
     "output_type": "display_data"
    }
   ],
   "source": [
    "#We can look at the number of days represented on a piechart\n",
    "accounts = df['day_of_week'].value_counts()\n",
    "labels = accounts.index\n",
    "values = accounts.values\n",
    "\n",
    "plt.figure(figsize=(7,7), dpi=100)\n",
    "plt.pie(values, labels = labels, autopct='%1.1f%%', explode = (0,0,0.1,0,0), shadow=True, startangle=90)\n",
    "plt.title('A Pie Chart of Days of the Week', color='Blue')\n",
    "plt.show()"
   ]
  },
  {
   "cell_type": "code",
   "execution_count": 156,
   "metadata": {},
   "outputs": [
    {
     "data": {
      "image/png": "[encoded data removed]",
      "text/plain": [
       "<Figure size 600x400 with 1 Axes>"
      ]
     },
     "metadata": {},
     "output_type": "display_data"
    }
   ],
   "source": [
    "#We can represent the number of blue cars taken with a histogram\n",
    "plt.figure(dpi = 100)\n",
    "sns.distplot(df[\"bluecars_taken_sum\"], kde = False, color = 'orange')\n",
    "plt.title(\"Histogram of Sum of Bluecars Taken\", color = 'purple')\n",
    "plt.show()"
   ]
  },
  {
   "cell_type": "code",
   "execution_count": 153,
   "metadata": {},
   "outputs": [
    {
     "data": {
      "image/png": "[encoded data removed]",
      "text/plain": [
       "<Figure size 600x400 with 1 Axes>"
      ]
     },
     "metadata": {},
     "output_type": "display_data"
    }
   ],
   "source": [
    "#We can represent the number of blue cars returned with a histogram\n",
    "plt.figure(dpi = 100)\n",
    "sns.set_style(\"darkgrid\")\n",
    "sns.distplot(df[\"bluecars_returned_sum\"], kde = False, color = 'green')\n",
    "plt.title(\"Histogram of Sum of Bluecars Returned\")\n",
    "plt.show()"
   ]
  },
  {
   "cell_type": "code",
   "execution_count": 70,
   "metadata": {
    "colab": {
     "base_uri": "https://localhost:8080/",
     "height": 190
    },
    "id": "e1f9vXwTSb6z",
    "outputId": "9b205d2b-620c-46a5-bb49-78d4f947aee5"
   },
   "outputs": [
    {
     "data": {
      "text/plain": [
       "94230    112\n",
       "94000    112\n",
       "93600    112\n",
       "75017    112\n",
       "75009    112\n",
       "        ... \n",
       "93150    107\n",
       "93370    105\n",
       "92340    105\n",
       "93200     90\n",
       "93390     59\n",
       "Name: postal_code, Length: 104, dtype: int64"
      ]
     },
     "execution_count": 70,
     "metadata": {},
     "output_type": "execute_result"
    }
   ],
   "source": []
  },
  {
   "cell_type": "code",
   "execution_count": 158,
   "metadata": {
    "id": "-0N1cJIycZkH"
   },
   "outputs": [
    {
     "data": {
      "image/png": "[encoded data removed]",
      "text/plain": [
       "<Figure size 900x600 with 1 Axes>"
      ]
     },
     "metadata": {},
     "output_type": "display_data"
    }
   ],
   "source": [
    "#Information of respondents household sizes\n",
    "plt.figure(dpi=150)\n",
    "sns.distplot(df['slots_freed_sum'], kde=False, color='purple')\n",
    "plt.ylabel('Frequency')\n",
    "plt.title('Slots Freed Sum')\n",
    "plt.show()"
   ]
  },
  {
   "cell_type": "code",
   "execution_count": 159,
   "metadata": {
    "id": "jQOGv3nhZC8g"
   },
   "outputs": [
    {
     "data": {
      "image/png": "[encoded data removed]",
      "text/plain": [
       "<Figure size 900x600 with 1 Axes>"
      ]
     },
     "metadata": {},
     "output_type": "display_data"
    }
   ],
   "source": [
    "#Information of respondent age\n",
    "plt.figure(dpi=150)\n",
    "sns.distplot(df['slots_taken_sum'], kde=True, color='red')\n",
    "plt.ylabel('Frequency')\n",
    "plt.title('Histogram Showing Sum of Slots Taken')\n",
    "plt.show()"
   ]
  },
  {
   "cell_type": "code",
   "execution_count": 176,
   "metadata": {
    "id": "SfgxIlRNafub"
   },
   "outputs": [
    {
     "data": {
      "text/plain": [
       "<function matplotlib.pyplot.show(close=None, block=None)>"
      ]
     },
     "execution_count": 176,
     "metadata": {},
     "output_type": "execute_result"
    },
    {
     "data": {
      "image/png": "[encoded data removed]",
      "text/plain": [
       "<Figure size 1000x1000 with 1 Axes>"
      ]
     },
     "metadata": {},
     "output_type": "display_data"
    }
   ],
   "source": [
    "plt.figure(figsize = (10, 10), dpi=100)\n",
    "sns.countplot(df['n_daily_data_points'])\n",
    "plt.title('Daily Data Points')\n",
    "plt.ylabel('Count')\n",
    "plt.show"
   ]
  },
  {
   "cell_type": "markdown",
   "metadata": {},
   "source": [
    "### 6.1.2 Measures of Central Tendency "
   ]
  },
  {
   "cell_type": "code",
   "execution_count": 199,
   "metadata": {},
   "outputs": [],
   "source": [
    "#We will define the numerical columns as cols to make the work easier\n",
    "cols = ['n_daily_data_points', 'bluecars_taken_sum', 'bluecars_returned_sum', 'slots_freed_sum',\n",
    "       'slots_taken_sum']"
   ]
  },
  {
   "cell_type": "code",
   "execution_count": 200,
   "metadata": {},
   "outputs": [
    {
     "data": {
      "text/plain": [
       "n_daily_data_points      1430.007277\n",
       "bluecars_taken_sum        116.028673\n",
       "bluecars_returned_sum     115.639380\n",
       "slots_freed_sum            20.945166\n",
       "slots_taken_sum            20.921431\n",
       "dtype: float64"
      ]
     },
     "execution_count": 200,
     "metadata": {},
     "output_type": "execute_result"
    }
   ],
   "source": [
    "#Finding the mean of numerical values in the dataset\n",
    "df[cols].mean()"
   ]
  },
  {
   "cell_type": "code",
   "execution_count": 201,
   "metadata": {},
   "outputs": [
    {
     "data": {
      "text/plain": [
       "n_daily_data_points      1440.0\n",
       "bluecars_taken_sum         42.0\n",
       "bluecars_returned_sum      42.0\n",
       "slots_freed_sum             0.0\n",
       "slots_taken_sum             0.0\n",
       "dtype: float64"
      ]
     },
     "execution_count": 201,
     "metadata": {},
     "output_type": "execute_result"
    }
   ],
   "source": [
    "#Finding the median of numerical values in the dataset\n",
    "df[cols].median()"
   ]
  },
  {
   "cell_type": "code",
   "execution_count": 202,
   "metadata": {},
   "outputs": [
    {
     "data": {
      "text/html": [
       "<div>\n",
       "<style scoped>\n",
       "    .dataframe tbody tr th:only-of-type {\n",
       "        vertical-align: middle;\n",
       "    }\n",
       "\n",
       "    .dataframe tbody tr th {\n",
       "        vertical-align: top;\n",
       "    }\n",
       "\n",
       "    .dataframe thead th {\n",
       "        text-align: right;\n",
       "    }\n",
       "</style>\n",
       "<table border=\"1\" class=\"dataframe\">\n",
       "  <thead>\n",
       "    <tr style=\"text-align: right;\">\n",
       "      <th></th>\n",
       "      <th>n_daily_data_points</th>\n",
       "      <th>bluecars_taken_sum</th>\n",
       "      <th>bluecars_returned_sum</th>\n",
       "      <th>slots_freed_sum</th>\n",
       "      <th>slots_taken_sum</th>\n",
       "    </tr>\n",
       "  </thead>\n",
       "  <tbody>\n",
       "    <tr>\n",
       "      <th>0</th>\n",
       "      <td>1440</td>\n",
       "      <td>12</td>\n",
       "      <td>12</td>\n",
       "      <td>0</td>\n",
       "      <td>0</td>\n",
       "    </tr>\n",
       "  </tbody>\n",
       "</table>\n",
       "</div>"
      ],
      "text/plain": [
       "   n_daily_data_points  bluecars_taken_sum  bluecars_returned_sum  \\\n",
       "0                 1440                  12                     12   \n",
       "\n",
       "   slots_freed_sum  slots_taken_sum  \n",
       "0                0                0  "
      ]
     },
     "execution_count": 202,
     "metadata": {},
     "output_type": "execute_result"
    }
   ],
   "source": [
    "#Finding the mode of the numerical values\n",
    "df[cols].mode()"
   ]
  },
  {
   "cell_type": "code",
   "execution_count": 203,
   "metadata": {},
   "outputs": [
    {
     "data": {
      "text/html": [
       "<div>\n",
       "<style scoped>\n",
       "    .dataframe tbody tr th:only-of-type {\n",
       "        vertical-align: middle;\n",
       "    }\n",
       "\n",
       "    .dataframe tbody tr th {\n",
       "        vertical-align: top;\n",
       "    }\n",
       "\n",
       "    .dataframe thead th {\n",
       "        text-align: right;\n",
       "    }\n",
       "</style>\n",
       "<table border=\"1\" class=\"dataframe\">\n",
       "  <thead>\n",
       "    <tr style=\"text-align: right;\">\n",
       "      <th></th>\n",
       "      <th>n_daily_data_points</th>\n",
       "      <th>bluecars_taken_sum</th>\n",
       "      <th>bluecars_returned_sum</th>\n",
       "      <th>slots_freed_sum</th>\n",
       "      <th>slots_taken_sum</th>\n",
       "    </tr>\n",
       "  </thead>\n",
       "  <tbody>\n",
       "    <tr>\n",
       "      <th>0.25</th>\n",
       "      <td>1439.0</td>\n",
       "      <td>18.0</td>\n",
       "      <td>19.0</td>\n",
       "      <td>0.0</td>\n",
       "      <td>0.0</td>\n",
       "    </tr>\n",
       "    <tr>\n",
       "      <th>0.75</th>\n",
       "      <td>1440.0</td>\n",
       "      <td>126.0</td>\n",
       "      <td>126.0</td>\n",
       "      <td>4.0</td>\n",
       "      <td>5.0</td>\n",
       "    </tr>\n",
       "  </tbody>\n",
       "</table>\n",
       "</div>"
      ],
      "text/plain": [
       "      n_daily_data_points  bluecars_taken_sum  bluecars_returned_sum  \\\n",
       "0.25               1439.0                18.0                   19.0   \n",
       "0.75               1440.0               126.0                  126.0   \n",
       "\n",
       "      slots_freed_sum  slots_taken_sum  \n",
       "0.25              0.0              0.0  \n",
       "0.75              4.0              5.0  "
      ]
     },
     "execution_count": 203,
     "metadata": {},
     "output_type": "execute_result"
    }
   ],
   "source": [
    "#Finding the upper and lower quantiles \n",
    "df[cols].quantile([0.25, 0.75])"
   ]
  },
  {
   "cell_type": "code",
   "execution_count": 204,
   "metadata": {},
   "outputs": [
    {
     "data": {
      "text/plain": [
       "n_daily_data_points       36.882140\n",
       "bluecars_taken_sum       169.626905\n",
       "bluecars_returned_sum    168.344751\n",
       "slots_freed_sum           47.900208\n",
       "slots_taken_sum           47.848580\n",
       "dtype: float64"
      ]
     },
     "execution_count": 204,
     "metadata": {},
     "output_type": "execute_result"
    }
   ],
   "source": [
    "#Finding the standard deviation\n",
    "df[cols].std()"
   ]
  },
  {
   "cell_type": "code",
   "execution_count": 205,
   "metadata": {},
   "outputs": [
    {
     "data": {
      "text/plain": [
       "n_daily_data_points       1360.292245\n",
       "bluecars_taken_sum       28773.286798\n",
       "bluecars_returned_sum    28339.955275\n",
       "slots_freed_sum           2294.429896\n",
       "slots_taken_sum           2289.486593\n",
       "dtype: float64"
      ]
     },
     "execution_count": 205,
     "metadata": {},
     "output_type": "execute_result"
    }
   ],
   "source": [
    "#Looking at the variance \n",
    "df[cols].var()"
   ]
  },
  {
   "cell_type": "code",
   "execution_count": 206,
   "metadata": {},
   "outputs": [
    {
     "data": {
      "text/plain": [
       "n_daily_data_points     -5.449576\n",
       "bluecars_taken_sum       2.328198\n",
       "bluecars_returned_sum    2.328973\n",
       "slots_freed_sum          2.542187\n",
       "slots_taken_sum          2.542346\n",
       "dtype: float64"
      ]
     },
     "execution_count": 206,
     "metadata": {},
     "output_type": "execute_result"
    }
   ],
   "source": [
    "#Looking at the skewness\n",
    "df[cols].skew()"
   ]
  },
  {
   "cell_type": "markdown",
   "metadata": {},
   "source": [
    "Only daily data points is skewed to the left. The rest are skewed to the right."
   ]
  },
  {
   "cell_type": "code",
   "execution_count": 207,
   "metadata": {},
   "outputs": [
    {
     "data": {
      "text/plain": [
       "n_daily_data_points      31.654408\n",
       "bluecars_taken_sum        5.553808\n",
       "bluecars_returned_sum     5.542863\n",
       "slots_freed_sum           6.007230\n",
       "slots_taken_sum           6.001265\n",
       "dtype: float64"
      ]
     },
     "execution_count": 207,
     "metadata": {},
     "output_type": "execute_result"
    }
   ],
   "source": [
    "#Looking at the kurtosis of the dataset\n",
    "df[cols].kurt()"
   ]
  },
  {
   "cell_type": "markdown",
   "metadata": {
    "id": "g2pi2tWWXIDf"
   },
   "source": [
    "## 6.2 Bivariate Data Analysis"
   ]
  },
  {
   "cell_type": "markdown",
   "metadata": {
    "id": "A6AxJLnCeYU1"
   },
   "source": [
    "Bivariate Analysis is done to compare two variables. The quantifiable variables in this dataset are age and household size"
   ]
  },
  {
   "cell_type": "code",
   "execution_count": 215,
   "metadata": {
    "id": "9zX2ZEb0XNna"
   },
   "outputs": [
    {
     "data": {
      "image/png": "[encoded data removed]",
      "text/plain": [
       "<Figure size 600x400 with 1 Axes>"
      ]
     },
     "metadata": {},
     "output_type": "display_data"
    }
   ],
   "source": [
    "#Scatter plot of bluecars returned and bluecars taken\n",
    "plt.figure(dpi=100)\n",
    "plt.scatter(df['bluecars_returned_sum'], df['bluecars_taken_sum'], color='yellow')\n",
    "plt.xlabel('Sum of Bluecars Returned')\n",
    "plt.ylabel('Sum of Bluecars Taken')\n",
    "plt.title('Scatter Plot Showing Relationship Between Sum of Bluecars Returned and Bluecars Taken', color='Red')\n",
    "plt.show()"
   ]
  },
  {
   "cell_type": "markdown",
   "metadata": {
    "id": "1m2u8UlQgD6_"
   },
   "source": [
    "It can be seen there is a linear relationship between bluecars returned and bluecars taken"
   ]
  },
  {
   "cell_type": "code",
   "execution_count": 220,
   "metadata": {
    "id": "BiUWYc4hgePZ"
   },
   "outputs": [
    {
     "data": {
      "image/png": "[encoded data removed]",
      "text/plain": [
       "<Figure size 600x400 with 1 Axes>"
      ]
     },
     "metadata": {},
     "output_type": "display_data"
    }
   ],
   "source": [
    "#Scatter plot of charging slots taken and slots freed\n",
    "plt.figure(dpi=100)\n",
    "plt.scatter(df['slots_freed_sum'], df['slots_taken_sum'], color='brown')\n",
    "plt.xlabel('Sum of Slots Freed')\n",
    "plt.ylabel('Sum of Slots Taken')\n",
    "plt.title('Scatter Plot Showing Relationship Between Sum of Slots Freed and Slots Taken', color='blue')\n",
    "plt.show()"
   ]
  },
  {
   "cell_type": "markdown",
   "metadata": {},
   "source": [
    "There is a relationship between sum of slots taken and sum of slots freed"
   ]
  },
  {
   "cell_type": "code",
   "execution_count": 246,
   "metadata": {
    "id": "dHicexGZm1W9"
   },
   "outputs": [
    {
     "data": {
      "text/plain": [
       "<AxesSubplot:>"
      ]
     },
     "execution_count": 246,
     "metadata": {},
     "output_type": "execute_result"
    },
    {
     "data": {
      "image/png": "[encoded data removed]",
      "text/plain": [
       "<Figure size 720x360 with 2 Axes>"
      ]
     },
     "metadata": {},
     "output_type": "display_data"
    }
   ],
   "source": [
    "#checking correlation of the entire dataset\n",
    "corr = df.corr()\n",
    "plt.figure(figsize = (10,5))\n",
    "sns.heatmap(corr,xticklabels = corr.columns, yticklabels = corr.columns, annot=True, annot_kws = {'size':15})"
   ]
  },
  {
   "cell_type": "markdown",
   "metadata": {
    "id": "-iGjiKKZtT7b"
   },
   "source": [
    "# 7. Implementing the Solution"
   ]
  },
  {
   "cell_type": "markdown",
   "metadata": {},
   "source": [
    "## 7.1 Hypothesis testing"
   ]
  },
  {
   "cell_type": "markdown",
   "metadata": {},
   "source": [
    "First we define the null and alternate hypothesis.\n",
    "In this case the claim is that the amount of bluecars taken on Friday is more than taken on Mondays as it is expected that usage is more during weekends.\n",
    "The null hypothesis is the amount of bluecars taken on Friday is less or equal to that taken on monday.\n",
    "We will use a significance level of 0.05.\n",
    "The sampling method will be stratified random sampling taking samples randomly from two strata, Monday and Friday."
   ]
  },
  {
   "cell_type": "code",
   "execution_count": 299,
   "metadata": {},
   "outputs": [
    {
     "data": {
      "text/html": [
       "<div>\n",
       "<style scoped>\n",
       "    .dataframe tbody tr th:only-of-type {\n",
       "        vertical-align: middle;\n",
       "    }\n",
       "\n",
       "    .dataframe tbody tr th {\n",
       "        vertical-align: top;\n",
       "    }\n",
       "\n",
       "    .dataframe thead th {\n",
       "        text-align: right;\n",
       "    }\n",
       "</style>\n",
       "<table border=\"1\" class=\"dataframe\">\n",
       "  <thead>\n",
       "    <tr style=\"text-align: right;\">\n",
       "      <th></th>\n",
       "      <th>postal_code</th>\n",
       "      <th>date</th>\n",
       "      <th>n_daily_data_points</th>\n",
       "      <th>day_of_week</th>\n",
       "      <th>day_type</th>\n",
       "      <th>bluecars_taken_sum</th>\n",
       "      <th>bluecars_returned_sum</th>\n",
       "      <th>slots_freed_sum</th>\n",
       "      <th>slots_taken_sum</th>\n",
       "    </tr>\n",
       "  </thead>\n",
       "  <tbody>\n",
       "    <tr>\n",
       "      <th>0</th>\n",
       "      <td>75001</td>\n",
       "      <td>1/1/2018</td>\n",
       "      <td>1440</td>\n",
       "      <td>Monday</td>\n",
       "      <td>weekday</td>\n",
       "      <td>110</td>\n",
       "      <td>103</td>\n",
       "      <td>22</td>\n",
       "      <td>20</td>\n",
       "    </tr>\n",
       "    <tr>\n",
       "      <th>4</th>\n",
       "      <td>75001</td>\n",
       "      <td>1/5/2018</td>\n",
       "      <td>1440</td>\n",
       "      <td>Friday</td>\n",
       "      <td>weekday</td>\n",
       "      <td>114</td>\n",
       "      <td>117</td>\n",
       "      <td>18</td>\n",
       "      <td>20</td>\n",
       "    </tr>\n",
       "    <tr>\n",
       "      <th>7</th>\n",
       "      <td>75001</td>\n",
       "      <td>1/8/2018</td>\n",
       "      <td>1438</td>\n",
       "      <td>Monday</td>\n",
       "      <td>weekday</td>\n",
       "      <td>84</td>\n",
       "      <td>83</td>\n",
       "      <td>14</td>\n",
       "      <td>15</td>\n",
       "    </tr>\n",
       "    <tr>\n",
       "      <th>11</th>\n",
       "      <td>75001</td>\n",
       "      <td>1/12/2018</td>\n",
       "      <td>1439</td>\n",
       "      <td>Friday</td>\n",
       "      <td>weekday</td>\n",
       "      <td>126</td>\n",
       "      <td>127</td>\n",
       "      <td>11</td>\n",
       "      <td>13</td>\n",
       "    </tr>\n",
       "    <tr>\n",
       "      <th>14</th>\n",
       "      <td>75001</td>\n",
       "      <td>1/15/2018</td>\n",
       "      <td>1440</td>\n",
       "      <td>Monday</td>\n",
       "      <td>weekday</td>\n",
       "      <td>107</td>\n",
       "      <td>107</td>\n",
       "      <td>15</td>\n",
       "      <td>15</td>\n",
       "    </tr>\n",
       "  </tbody>\n",
       "</table>\n",
       "</div>"
      ],
      "text/plain": [
       "    postal_code       date  n_daily_data_points day_of_week day_type  \\\n",
       "0         75001   1/1/2018                 1440      Monday  weekday   \n",
       "4         75001   1/5/2018                 1440      Friday  weekday   \n",
       "7         75001   1/8/2018                 1438      Monday  weekday   \n",
       "11        75001  1/12/2018                 1439      Friday  weekday   \n",
       "14        75001  1/15/2018                 1440      Monday  weekday   \n",
       "\n",
       "    bluecars_taken_sum  bluecars_returned_sum  slots_freed_sum  \\\n",
       "0                  110                    103               22   \n",
       "4                  114                    117               18   \n",
       "7                   84                     83               14   \n",
       "11                 126                    127               11   \n",
       "14                 107                    107               15   \n",
       "\n",
       "    slots_taken_sum  \n",
       "0                20  \n",
       "4                20  \n",
       "7                15  \n",
       "11               13  \n",
       "14               15  "
      ]
     },
     "execution_count": 299,
     "metadata": {},
     "output_type": "execute_result"
    }
   ],
   "source": [
    "#creating a dataset with only monday and friday as the day type\n",
    "strata = df[df['day_of_week'].isin(['Monday', 'Friday'])]\n",
    "strata.head()"
   ]
  },
  {
   "cell_type": "code",
   "execution_count": 301,
   "metadata": {},
   "outputs": [
    {
     "data": {
      "text/plain": [
       "(4645, 9)"
      ]
     },
     "execution_count": 301,
     "metadata": {},
     "output_type": "execute_result"
    }
   ],
   "source": [
    "#Getting shape of the strata\n",
    "strata.shape"
   ]
  },
  {
   "cell_type": "code",
   "execution_count": 307,
   "metadata": {},
   "outputs": [
    {
     "data": {
      "text/plain": [
       "Monday    2374\n",
       "Friday    2271\n",
       "Name: day_of_week, dtype: int64"
      ]
     },
     "execution_count": 307,
     "metadata": {},
     "output_type": "execute_result"
    }
   ],
   "source": [
    "strata['day_of_week'].value_counts()"
   ]
  },
  {
   "cell_type": "markdown",
   "metadata": {},
   "source": [
    "There are 4645 values in the stratas. We will get a sample size using about 10% of the population. We find the ideal sample size is 464. We then randomly select 464 items from the strata."
   ]
  },
  {
   "cell_type": "code",
   "execution_count": 311,
   "metadata": {},
   "outputs": [
    {
     "name": "stdout",
     "output_type": "stream",
     "text": [
      "Monday    241\n",
      "Friday    223\n",
      "Name: day_of_week, dtype: int64\n"
     ]
    }
   ],
   "source": [
    "# Non stratified sample\n",
    "non_strat_output = strata.sample(frac=0.1) \n",
    "\n",
    "# check the proportion of the non_stratified sample\n",
    "print(non_strat_output['day_of_week'].value_counts())"
   ]
  },
  {
   "cell_type": "code",
   "execution_count": 314,
   "metadata": {},
   "outputs": [
    {
     "name": "stdout",
     "output_type": "stream",
     "text": [
      "Monday    237\n",
      "Friday    227\n",
      "Name: day_of_week, dtype: int64\n"
     ]
    },
    {
     "data": {
      "text/html": [
       "<div>\n",
       "<style scoped>\n",
       "    .dataframe tbody tr th:only-of-type {\n",
       "        vertical-align: middle;\n",
       "    }\n",
       "\n",
       "    .dataframe tbody tr th {\n",
       "        vertical-align: top;\n",
       "    }\n",
       "\n",
       "    .dataframe thead th {\n",
       "        text-align: right;\n",
       "    }\n",
       "</style>\n",
       "<table border=\"1\" class=\"dataframe\">\n",
       "  <thead>\n",
       "    <tr style=\"text-align: right;\">\n",
       "      <th></th>\n",
       "      <th>postal_code</th>\n",
       "      <th>date</th>\n",
       "      <th>n_daily_data_points</th>\n",
       "      <th>day_of_week</th>\n",
       "      <th>day_type</th>\n",
       "      <th>bluecars_taken_sum</th>\n",
       "      <th>bluecars_returned_sum</th>\n",
       "      <th>slots_freed_sum</th>\n",
       "      <th>slots_taken_sum</th>\n",
       "    </tr>\n",
       "  </thead>\n",
       "  <tbody>\n",
       "    <tr>\n",
       "      <th>2297</th>\n",
       "      <td>75015</td>\n",
       "      <td>4/27/2018</td>\n",
       "      <td>1440</td>\n",
       "      <td>Friday</td>\n",
       "      <td>weekday</td>\n",
       "      <td>867</td>\n",
       "      <td>853</td>\n",
       "      <td>235</td>\n",
       "      <td>232</td>\n",
       "    </tr>\n",
       "    <tr>\n",
       "      <th>12538</th>\n",
       "      <td>93600</td>\n",
       "      <td>2/9/2018</td>\n",
       "      <td>1439</td>\n",
       "      <td>Friday</td>\n",
       "      <td>weekday</td>\n",
       "      <td>8</td>\n",
       "      <td>9</td>\n",
       "      <td>0</td>\n",
       "      <td>0</td>\n",
       "    </tr>\n",
       "    <tr>\n",
       "      <th>8515</th>\n",
       "      <td>92370</td>\n",
       "      <td>4/20/2018</td>\n",
       "      <td>1417</td>\n",
       "      <td>Friday</td>\n",
       "      <td>weekday</td>\n",
       "      <td>21</td>\n",
       "      <td>23</td>\n",
       "      <td>0</td>\n",
       "      <td>0</td>\n",
       "    </tr>\n",
       "    <tr>\n",
       "      <th>11917</th>\n",
       "      <td>93370</td>\n",
       "      <td>5/4/2018</td>\n",
       "      <td>1435</td>\n",
       "      <td>Friday</td>\n",
       "      <td>weekday</td>\n",
       "      <td>3</td>\n",
       "      <td>3</td>\n",
       "      <td>0</td>\n",
       "      <td>0</td>\n",
       "    </tr>\n",
       "    <tr>\n",
       "      <th>3017</th>\n",
       "      <td>75020</td>\n",
       "      <td>2/23/2018</td>\n",
       "      <td>1440</td>\n",
       "      <td>Friday</td>\n",
       "      <td>weekday</td>\n",
       "      <td>442</td>\n",
       "      <td>413</td>\n",
       "      <td>120</td>\n",
       "      <td>112</td>\n",
       "    </tr>\n",
       "    <tr>\n",
       "      <th>...</th>\n",
       "      <td>...</td>\n",
       "      <td>...</td>\n",
       "      <td>...</td>\n",
       "      <td>...</td>\n",
       "      <td>...</td>\n",
       "      <td>...</td>\n",
       "      <td>...</td>\n",
       "      <td>...</td>\n",
       "      <td>...</td>\n",
       "    </tr>\n",
       "    <tr>\n",
       "      <th>9853</th>\n",
       "      <td>92800</td>\n",
       "      <td>2/12/2018</td>\n",
       "      <td>1440</td>\n",
       "      <td>Monday</td>\n",
       "      <td>weekday</td>\n",
       "      <td>73</td>\n",
       "      <td>75</td>\n",
       "      <td>9</td>\n",
       "      <td>8</td>\n",
       "    </tr>\n",
       "    <tr>\n",
       "      <th>14368</th>\n",
       "      <td>94220</td>\n",
       "      <td>6/18/2018</td>\n",
       "      <td>1440</td>\n",
       "      <td>Monday</td>\n",
       "      <td>weekday</td>\n",
       "      <td>50</td>\n",
       "      <td>50</td>\n",
       "      <td>0</td>\n",
       "      <td>0</td>\n",
       "    </tr>\n",
       "    <tr>\n",
       "      <th>4499</th>\n",
       "      <td>92000</td>\n",
       "      <td>5/28/2018</td>\n",
       "      <td>1440</td>\n",
       "      <td>Monday</td>\n",
       "      <td>weekday</td>\n",
       "      <td>171</td>\n",
       "      <td>142</td>\n",
       "      <td>0</td>\n",
       "      <td>0</td>\n",
       "    </tr>\n",
       "    <tr>\n",
       "      <th>102</th>\n",
       "      <td>75001</td>\n",
       "      <td>4/16/2018</td>\n",
       "      <td>1440</td>\n",
       "      <td>Monday</td>\n",
       "      <td>weekday</td>\n",
       "      <td>122</td>\n",
       "      <td>122</td>\n",
       "      <td>23</td>\n",
       "      <td>24</td>\n",
       "    </tr>\n",
       "    <tr>\n",
       "      <th>1350</th>\n",
       "      <td>75009</td>\n",
       "      <td>4/16/2018</td>\n",
       "      <td>1440</td>\n",
       "      <td>Monday</td>\n",
       "      <td>weekday</td>\n",
       "      <td>296</td>\n",
       "      <td>266</td>\n",
       "      <td>60</td>\n",
       "      <td>56</td>\n",
       "    </tr>\n",
       "  </tbody>\n",
       "</table>\n",
       "<p>464 rows × 9 columns</p>\n",
       "</div>"
      ],
      "text/plain": [
       "       postal_code       date  n_daily_data_points day_of_week day_type  \\\n",
       "2297         75015  4/27/2018                 1440      Friday  weekday   \n",
       "12538        93600   2/9/2018                 1439      Friday  weekday   \n",
       "8515         92370  4/20/2018                 1417      Friday  weekday   \n",
       "11917        93370   5/4/2018                 1435      Friday  weekday   \n",
       "3017         75020  2/23/2018                 1440      Friday  weekday   \n",
       "...            ...        ...                  ...         ...      ...   \n",
       "9853         92800  2/12/2018                 1440      Monday  weekday   \n",
       "14368        94220  6/18/2018                 1440      Monday  weekday   \n",
       "4499         92000  5/28/2018                 1440      Monday  weekday   \n",
       "102          75001  4/16/2018                 1440      Monday  weekday   \n",
       "1350         75009  4/16/2018                 1440      Monday  weekday   \n",
       "\n",
       "       bluecars_taken_sum  bluecars_returned_sum  slots_freed_sum  \\\n",
       "2297                  867                    853              235   \n",
       "12538                   8                      9                0   \n",
       "8515                   21                     23                0   \n",
       "11917                   3                      3                0   \n",
       "3017                  442                    413              120   \n",
       "...                   ...                    ...              ...   \n",
       "9853                   73                     75                9   \n",
       "14368                  50                     50                0   \n",
       "4499                  171                    142                0   \n",
       "102                   122                    122               23   \n",
       "1350                  296                    266               60   \n",
       "\n",
       "       slots_taken_sum  \n",
       "2297               232  \n",
       "12538                0  \n",
       "8515                 0  \n",
       "11917                0  \n",
       "3017               112  \n",
       "...                ...  \n",
       "9853                 8  \n",
       "14368                0  \n",
       "4499                 0  \n",
       "102                 24  \n",
       "1350                56  \n",
       "\n",
       "[464 rows x 9 columns]"
      ]
     },
     "execution_count": 314,
     "metadata": {},
     "output_type": "execute_result"
    }
   ],
   "source": [
    "# Stratified sample\n",
    "strat_output = strata.groupby('day_of_week', group_keys=False).apply(lambda grouped_subset : grouped_subset.sample(frac=0.1))\n",
    "\n",
    "# proportion of the non_stratified sample\n",
    "print(strat_output['day_of_week'].value_counts())\n",
    "\n",
    "# Check the stratified output\n",
    "strat_output"
   ]
  },
  {
   "cell_type": "markdown",
   "metadata": {},
   "source": [
    "We now have a sample in the required proportion."
   ]
  },
  {
   "cell_type": "code",
   "execution_count": 318,
   "metadata": {},
   "outputs": [
    {
     "data": {
      "text/plain": [
       "122"
      ]
     },
     "execution_count": 318,
     "metadata": {},
     "output_type": "execute_result"
    }
   ],
   "source": [
    "#Finding mean of bluecars taken stratified sample\n",
    "mean_bluecars = round(strat_output['bluecars_taken_sum'].mean())"
   ]
  },
  {
   "cell_type": "code",
   "execution_count": 317,
   "metadata": {},
   "outputs": [
    {
     "data": {
      "text/plain": [
       "116"
      ]
     },
     "execution_count": 317,
     "metadata": {},
     "output_type": "execute_result"
    }
   ],
   "source": [
    "#Finding the mean of bluecars taken in the entire population\n",
    "round(df['bluecars_taken_sum'].mean())"
   ]
  },
  {
   "cell_type": "code",
   "execution_count": 319,
   "metadata": {},
   "outputs": [
    {
     "data": {
      "text/plain": [
       "170"
      ]
     },
     "execution_count": 319,
     "metadata": {},
     "output_type": "execute_result"
    }
   ],
   "source": [
    "#The standard deviation of the population\n",
    "round(df['bluecars_taken_sum'].std())"
   ]
  },
  {
   "cell_type": "code",
   "execution_count": 327,
   "metadata": {},
   "outputs": [
    {
     "data": {
      "text/plain": [
       "7.892051872524704"
      ]
     },
     "execution_count": 327,
     "metadata": {},
     "output_type": "execute_result"
    }
   ],
   "source": [
    "sd_bluecars = 170/math.sqrt(464)\n",
    "sd_bluecars"
   ]
  },
  {
   "cell_type": "code",
   "execution_count": 342,
   "metadata": {},
   "outputs": [
    {
     "name": "stdout",
     "output_type": "stream",
     "text": [
      "0.76026\n"
     ]
    }
   ],
   "source": [
    "#Finding the z-score\n",
    "zscore = (122-116)/sd_bluecars\n",
    "print(round(zscore, 5))"
   ]
  },
  {
   "cell_type": "code",
   "execution_count": 340,
   "metadata": {},
   "outputs": [
    {
     "name": "stdout",
     "output_type": "stream",
     "text": [
      "0.224\n",
      "We fail to reject the null hypothesis\n"
     ]
    }
   ],
   "source": [
    "from scipy import stats\n",
    "from scipy.stats import norm\n",
    "alpha = 0.05\n",
    "prob = 1 - stats.norm.cdf(zscore)\n",
    "print(round(prob, 3))\n",
    "if(prob <  alpha):\n",
    "  print(\"We reject the null hypothesis\")\n",
    "else:\n",
    "  print(\"We fail to reject the null hypothesis\")"
   ]
  },
  {
   "cell_type": "markdown",
   "metadata": {
    "id": "3-zy19aFtXuL"
   },
   "source": [
    "# 8. Challenging the Solution"
   ]
  },
  {
   "cell_type": "markdown",
   "metadata": {},
   "source": [
    "The solution only finds a trend between Monday and Friday. However, it would be better to get analysis of the whole week"
   ]
  },
  {
   "cell_type": "markdown",
   "metadata": {
    "id": "_aj0TTXZtq0_"
   },
   "source": [
    "# 9. Follow up Questions"
   ]
  },
  {
   "cell_type": "markdown",
   "metadata": {
    "id": "IhZYtuYCtzrt"
   },
   "source": [
    "## a) Did we have the right data?"
   ]
  },
  {
   "cell_type": "markdown",
   "metadata": {},
   "source": [
    "Yes, the dataset is sufficient to answer the question."
   ]
  },
  {
   "cell_type": "markdown",
   "metadata": {
    "id": "LVrdWEB1tzxR"
   },
   "source": [
    "## b) Do we need other data to answer our questions?"
   ]
  },
  {
   "cell_type": "markdown",
   "metadata": {},
   "source": [
    "No, there is no need for other data"
   ]
  },
  {
   "cell_type": "markdown",
   "metadata": {
    "id": "ZPtReWlDt0di"
   },
   "source": [
    "## c) Did we have the right question"
   ]
  },
  {
   "cell_type": "markdown",
   "metadata": {},
   "source": [
    "The question can be changed to include all the days of the week. Sensitivity testing could also be useful"
   ]
  }
 ],
 "metadata": {
  "colab": {
   "collapsed_sections": [
    "dEXDz2A7MMnU",
    "r5NyPjW3oZSd",
    "mBob_G29MM86",
    "KA1r4tVLMNlN",
    "s87XZlbNSRMw",
    "8Fmb07eJSXgy"
   ],
   "name": "Joshua_Kibuye_Moringa_School_Core_IndividualProject_Week_2_Python - Exploratory Data Analysis",
   "provenance": [],
   "toc_visible": true
  },
  "kernelspec": {
   "display_name": "Python 3",
   "language": "python",
   "name": "python3"
  },
  "language_info": {
   "codemirror_mode": {
    "name": "ipython",
    "version": 3
   },
   "file_extension": ".py",
   "mimetype": "text/x-python",
   "name": "python",
   "nbconvert_exporter": "python",
   "pygments_lexer": "ipython3",
   "version": "3.8.8"
  }
 },
 "nbformat": 4,
 "nbformat_minor": 1
}
